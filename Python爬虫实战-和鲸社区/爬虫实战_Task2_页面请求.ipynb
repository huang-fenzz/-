{
 "cells": [
  {
   "cell_type": "code",
   "execution_count": 2,
   "metadata": {},
   "outputs": [],
   "source": [
    "import requests"
   ]
  },
  {
   "cell_type": "markdown",
   "metadata": {},
   "source": [
    "## Get请求"
   ]
  },
  {
   "cell_type": "code",
   "execution_count": null,
   "metadata": {},
   "outputs": [],
   "source": [
    "#获取url下返回的http资源\n",
    "response = requests.get('https://www.baidu.com/')\n",
    "print(response.text)"
   ]
  },
  {
   "cell_type": "code",
   "execution_count": null,
   "metadata": {},
   "outputs": [],
   "source": [
    "#编码转置\n",
    "response.encoding = 'utf8'  #转格式为utf8\n",
    "print(response.text)              #输出str类型响应数据\n",
    "print(response.content)        #输出二进制类型响应数据\n",
    "print(response.content.decode())    #二进制转化成字符串类型 decode()"
   ]
  },
  {
   "cell_type": "code",
   "execution_count": null,
   "metadata": {},
   "outputs": [],
   "source": [
    "r = requests.get('http://httpbin.org/get')\n",
    "print(r.text)"
   ]
  },
  {
   "cell_type": "code",
   "execution_count": null,
   "metadata": {},
   "outputs": [],
   "source": [
    "r = requests.get('http://httpbin.org/get?name=blue&age=22')\n",
    "r.text"
   ]
  },
  {
   "cell_type": "code",
   "execution_count": null,
   "metadata": {},
   "outputs": [],
   "source": [
    "#将要输入到url的参数传递到paramas\n",
    "data = {\n",
    "    'name':'blue',\n",
    "    'age':22\n",
    "}\n",
    "r = requests.get('http://httpbin.org/get',params=data)\n",
    "r.text"
   ]
  },
  {
   "cell_type": "code",
   "execution_count": null,
   "metadata": {},
   "outputs": [],
   "source": [
    "#自拟headers\n",
    "headers = {\n",
    "    'User-Agent' :\"Mozilla/5.0 (Windows NT 10.0; Win64; x64; rv:93.0) Gecko/20100101 Firefox/93.0\"\n",
    "}\n",
    "r = requests.get(url='https://www.baidu.com/',headers=headers)\n",
    "r.headers"
   ]
  },
  {
   "cell_type": "code",
   "execution_count": null,
   "metadata": {},
   "outputs": [],
   "source": [
    "#自拟Cookies\n",
    "cookies={'cookies_are':'working'}\n",
    "r = requests.get(url='http://httpbin.org/cookies',cookies=cookies)\n",
    "r.text"
   ]
  },
  {
   "cell_type": "code",
   "execution_count": null,
   "metadata": {},
   "outputs": [],
   "source": [
    "#allow_redirects 重定向\n",
    "requests.get('https://www.baidu.com/',allow_redirects=False)"
   ]
  },
  {
   "cell_type": "code",
   "execution_count": null,
   "metadata": {},
   "outputs": [],
   "source": [
    "#verify 证书验证\n",
    "requests.get(url='https://www.baidu.com/',verify=False)"
   ]
  },
  {
   "cell_type": "code",
   "execution_count": null,
   "metadata": {},
   "outputs": [],
   "source": [
    "#timeout 设置超时 \n",
    "requests.get(url='https://www.baidu.com/',timeout=1)"
   ]
  },
  {
   "cell_type": "markdown",
   "metadata": {},
   "source": [
    "## Post请求"
   ]
  },
  {
   "cell_type": "code",
   "execution_count": null,
   "metadata": {},
   "outputs": [],
   "source": [
    "#发送请求,将需要提供的数据传递在data参数中\n",
    "r = requests.post(url='http://www.httpbin.org/post',data={'username':'blue','password':123})\n",
    "r.encoding='utf8'\n",
    "r.text"
   ]
  },
  {
   "cell_type": "code",
   "execution_count": null,
   "metadata": {},
   "outputs": [],
   "source": [
    "#异常处理\n",
    "from requests.exceptions import ReadTimeout,HTTPError,RequestException\n",
    "try:\n",
    "    response = requests.get('https://www.baidu.com',timeout=1)\n",
    "    print(response.status_code)\n",
    "except ReadTimeout:\n",
    "    print('timeout')"
   ]
  },
  {
   "cell_type": "markdown",
   "metadata": {},
   "source": [
    "## 实战1"
   ]
  },
  {
   "cell_type": "code",
   "execution_count": 16,
   "metadata": {},
   "outputs": [
    {
     "name": "stdout",
     "output_type": "stream",
     "text": [
      "-icon\" />\n",
      "        <link rel=\"icon\" sizes=\"any\" mask href=\"//www.baidu.com/img/baidu_85beaf5496f291521eb75ba38eacbd87.svg\">\n",
      "        <link rel=\"search\" type=\"application/opensearchdescription+xml\" href=\"/content-search.xml\" title=\"百度搜索\" />\n",
      "\t\t\n",
      "\t\t\n",
      "<title>周杰伦_百度搜索</title>\n",
      "\n",
      "\t\t\n",
      "\n",
      "\t\t\n",
      "<style data-for=\"result\" type=\"text/css\" id=\"css_newi_result\">body{color:#333;background:#fff;padding:6px 0 0;margin:0;position:relative}\n",
      "body,th,td,.p1,.p2{font-family:arial}\n",
      "p,form,ol,ul,li,dl,dt,dd,h3{margin:0;padding:0;l\n"
     ]
    }
   ],
   "source": [
    "headers = {\n",
    "    'User-Agent' :\"Mozilla/5.0 (Windows NT 10.0; Win64; x64; rv:93.0) Gecko/20100101 Firefox/93.0\"\n",
    "}\n",
    "params = {\n",
    "    'wd':'周杰伦'\n",
    "}\n",
    "r = requests.get(url='https://www.baidu.com/s?',headers=headers,params=params)\n",
    "print(r.text[500:1000])"
   ]
  },
  {
   "cell_type": "markdown",
   "metadata": {},
   "source": [
    "## Task2 -作业:\n",
    "    目标网站： https://www.baidu.com/\n",
    "    目标：通过 for 循环请求 “周杰伦”、“孙燕姿”、“李荣浩” 的百度请求内容，通过Markdown运行截图出成功请求内容和运行代码就可以"
   ]
  },
  {
   "cell_type": "code",
   "execution_count": 19,
   "metadata": {},
   "outputs": [
    {
     "name": "stdout",
     "output_type": "stream",
     "text": [
      "-icon\" />\n",
      "        <link rel=\"icon\" sizes=\"any\" mask href=\"//www.baidu.com/img/baidu_85beaf5496f291521eb75ba38eacbd87.svg\">\n",
      "        <link rel=\"search\" type=\"application/opensearchdescription+xml\" href=\"/content-search.xml\" title=\"百度搜索\" />\n",
      "\t\t\n",
      "\t\t\n",
      "<title>周杰伦_百度搜索</title>\n",
      "\n",
      "\t\t\n",
      "\n",
      "\t\t\n",
      "<style data-for=\"result\" type=\"text/css\" id=\"css_newi_result\">body{color:#333;background:#fff;padding:6px 0 0;margin:0;position:relative}\n",
      "body,th,td,.p1,.p2{font-family:arial}\n",
      "p,form,ol,ul,li,dl,dt,dd,h3{margin:0;padding:0;list-style:none}\n",
      "input{padding-top:0;padding-bottom:0;-moz-box-sizing:border-box;-webkit-box-sizing:border-box;box-sizing:border-box}\n",
      "table,img{border:0}\n",
      "td{font-size:9pt;line-height:18px}\n",
      "em{font-style:normal}\n",
      "em{font-style:normal;color:#c00}\n",
      "a em{text-decoration:underline}\n",
      "cite{font-style:normal;color:green}\n",
      ".m,a.m{color:#666}\n",
      "a.m:visited{color:#606}\n",
      ".g,a.g{color:green}\n",
      ".c{color:#77c}\n",
      ".f14{font-size:14px}\n",
      ".f10{font-size:10.5pt}\n",
      ".f16{font-size:16px}\n",
      ".f13{font-size:13px}\n",
      ".bg{background-image:url(\n",
      "-icon\" />\n",
      "        <link rel=\"icon\" sizes=\"any\" mask href=\"//www.baidu.com/img/baidu_85beaf5496f291521eb75ba38eacbd87.svg\">\n",
      "        <link rel=\"search\" type=\"application/opensearchdescription+xml\" href=\"/content-search.xml\" title=\"百度搜索\" />\n",
      "\t\t\n",
      "\t\t\n",
      "<title>孙燕姿_百度搜索</title>\n",
      "\n",
      "\t\t\n",
      "\n",
      "\t\t\n",
      "<style data-for=\"result\" type=\"text/css\" id=\"css_newi_result\">body{color:#333;background:#fff;padding:6px 0 0;margin:0;position:relative}\n",
      "body,th,td,.p1,.p2{font-family:arial}\n",
      "p,form,ol,ul,li,dl,dt,dd,h3{margin:0;padding:0;list-style:none}\n",
      "input{padding-top:0;padding-bottom:0;-moz-box-sizing:border-box;-webkit-box-sizing:border-box;box-sizing:border-box}\n",
      "table,img{border:0}\n",
      "td{font-size:9pt;line-height:18px}\n",
      "em{font-style:normal}\n",
      "em{font-style:normal;color:#c00}\n",
      "a em{text-decoration:underline}\n",
      "cite{font-style:normal;color:green}\n",
      ".m,a.m{color:#666}\n",
      "a.m:visited{color:#606}\n",
      ".g,a.g{color:green}\n",
      ".c{color:#77c}\n",
      ".f14{font-size:14px}\n",
      ".f10{font-size:10.5pt}\n",
      ".f16{font-size:16px}\n",
      ".f13{font-size:13px}\n",
      ".bg{background-image:url(\n",
      "-icon\" />\n",
      "        <link rel=\"icon\" sizes=\"any\" mask href=\"//www.baidu.com/img/baidu_85beaf5496f291521eb75ba38eacbd87.svg\">\n",
      "        <link rel=\"search\" type=\"application/opensearchdescription+xml\" href=\"/content-search.xml\" title=\"百度搜索\" />\n",
      "\t\t\n",
      "\t\t\n",
      "<title>李荣浩_百度搜索</title>\n",
      "\n",
      "\t\t\n",
      "\n",
      "\t\t\n",
      "<style data-for=\"result\" type=\"text/css\" id=\"css_newi_result\">body{color:#333;background:#fff;padding:6px 0 0;margin:0;position:relative}\n",
      "body,th,td,.p1,.p2{font-family:arial}\n",
      "p,form,ol,ul,li,dl,dt,dd,h3{margin:0;padding:0;list-style:none}\n",
      "input{padding-top:0;padding-bottom:0;-moz-box-sizing:border-box;-webkit-box-sizing:border-box;box-sizing:border-box}\n",
      "table,img{border:0}\n",
      "td{font-size:9pt;line-height:18px}\n",
      "em{font-style:normal}\n",
      "em{font-style:normal;color:#c00}\n",
      "a em{text-decoration:underline}\n",
      "cite{font-style:normal;color:green}\n",
      ".m,a.m{color:#666}\n",
      "a.m:visited{color:#606}\n",
      ".g,a.g{color:green}\n",
      ".c{color:#77c}\n",
      ".f14{font-size:14px}\n",
      ".f10{font-size:10.5pt}\n",
      ".f16{font-size:16px}\n",
      ".f13{font-size:13px}\n",
      ".bg{background-image:url(\n"
     ]
    }
   ],
   "source": [
    "import requests\n",
    "headers = {\n",
    "    'User-Agent' :\"Mozilla/5.0 (Windows NT 10.0; Win64; x64; rv:93.0) Gecko/20100101 Firefox/93.0\"}\n",
    "def spider(i):\n",
    "    aa = {'wd': i}\n",
    "    r = requests.get(url='https://www.baidu.com/s?',headers=headers,params=aa)\n",
    "    print(r.text[500:1500])\n",
    "a = ('周杰伦','孙燕姿','李荣浩')\n",
    "for i in a:\n",
    "    spider(i)"
   ]
  },
  {
   "cell_type": "code",
   "execution_count": 18,
   "metadata": {},
   "outputs": [],
   "source": []
  },
  {
   "cell_type": "code",
   "execution_count": null,
   "metadata": {},
   "outputs": [],
   "source": []
  }
 ],
 "metadata": {
  "kernelspec": {
   "display_name": "Python 3",
   "language": "python",
   "name": "python3"
  },
  "language_info": {
   "codemirror_mode": {
    "name": "ipython",
    "version": 3
   },
   "file_extension": ".py",
   "mimetype": "text/x-python",
   "name": "python",
   "nbconvert_exporter": "python",
   "pygments_lexer": "ipython3",
   "version": "3.8.8"
  }
 },
 "nbformat": 4,
 "nbformat_minor": 4
}
